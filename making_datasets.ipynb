{
 "cells": [
  {
   "cell_type": "code",
   "execution_count": 1,
   "metadata": {},
   "outputs": [],
   "source": [
    "import pandas as pd"
   ]
  },
  {
   "cell_type": "code",
   "execution_count": 2,
   "metadata": {},
   "outputs": [],
   "source": [
    "# читаем изначальные данные\n",
    "df_sales = pd.read_csv('sample.csv')\n",
    "\n",
    "# переводим Date_buy из srt в Datetime формат\n",
    "df_sales['Date_buy'] = pd.to_datetime(df_sales['Date_buy'])"
   ]
  },
  {
   "cell_type": "code",
   "execution_count": 3,
   "metadata": {},
   "outputs": [
    {
     "ename": "KeyboardInterrupt",
     "evalue": "",
     "output_type": "error",
     "traceback": [
      "\u001b[1;31m---------------------------------------------------------------------------\u001b[0m",
      "\u001b[1;31mKeyboardInterrupt\u001b[0m                         Traceback (most recent call last)",
      "\u001b[1;32m<timed exec>\u001b[0m in \u001b[0;36m<module>\u001b[1;34m\u001b[0m\n",
      "\u001b[1;32m<timed exec>\u001b[0m in \u001b[0;36m<listcomp>\u001b[1;34m(.0)\u001b[0m\n",
      "\u001b[1;32mC:\\ProgramData\\Anaconda3\\lib\\site-packages\\pandas\\core\\generic.py\u001b[0m in \u001b[0;36m__getattr__\u001b[1;34m(self, name)\u001b[0m\n\u001b[0;32m   5176\u001b[0m         \u001b[1;32melse\u001b[0m\u001b[1;33m:\u001b[0m\u001b[1;33m\u001b[0m\u001b[1;33m\u001b[0m\u001b[0m\n\u001b[0;32m   5177\u001b[0m             \u001b[1;32mif\u001b[0m \u001b[0mself\u001b[0m\u001b[1;33m.\u001b[0m\u001b[0m_info_axis\u001b[0m\u001b[1;33m.\u001b[0m\u001b[0m_can_hold_identifiers_and_holds_name\u001b[0m\u001b[1;33m(\u001b[0m\u001b[0mname\u001b[0m\u001b[1;33m)\u001b[0m\u001b[1;33m:\u001b[0m\u001b[1;33m\u001b[0m\u001b[1;33m\u001b[0m\u001b[0m\n\u001b[1;32m-> 5178\u001b[1;33m                 \u001b[1;32mreturn\u001b[0m \u001b[0mself\u001b[0m\u001b[1;33m[\u001b[0m\u001b[0mname\u001b[0m\u001b[1;33m]\u001b[0m\u001b[1;33m\u001b[0m\u001b[1;33m\u001b[0m\u001b[0m\n\u001b[0m\u001b[0;32m   5179\u001b[0m             \u001b[1;32mreturn\u001b[0m \u001b[0mobject\u001b[0m\u001b[1;33m.\u001b[0m\u001b[0m__getattribute__\u001b[0m\u001b[1;33m(\u001b[0m\u001b[0mself\u001b[0m\u001b[1;33m,\u001b[0m \u001b[0mname\u001b[0m\u001b[1;33m)\u001b[0m\u001b[1;33m\u001b[0m\u001b[1;33m\u001b[0m\u001b[0m\n\u001b[0;32m   5180\u001b[0m \u001b[1;33m\u001b[0m\u001b[0m\n",
      "\u001b[1;32mC:\\ProgramData\\Anaconda3\\lib\\site-packages\\pandas\\core\\frame.py\u001b[0m in \u001b[0;36m__getitem__\u001b[1;34m(self, key)\u001b[0m\n\u001b[0;32m   2949\u001b[0m     \u001b[1;32mdef\u001b[0m \u001b[0m__getitem__\u001b[0m\u001b[1;33m(\u001b[0m\u001b[0mself\u001b[0m\u001b[1;33m,\u001b[0m \u001b[0mkey\u001b[0m\u001b[1;33m)\u001b[0m\u001b[1;33m:\u001b[0m\u001b[1;33m\u001b[0m\u001b[1;33m\u001b[0m\u001b[0m\n\u001b[0;32m   2950\u001b[0m         \u001b[0mkey\u001b[0m \u001b[1;33m=\u001b[0m \u001b[0mlib\u001b[0m\u001b[1;33m.\u001b[0m\u001b[0mitem_from_zerodim\u001b[0m\u001b[1;33m(\u001b[0m\u001b[0mkey\u001b[0m\u001b[1;33m)\u001b[0m\u001b[1;33m\u001b[0m\u001b[1;33m\u001b[0m\u001b[0m\n\u001b[1;32m-> 2951\u001b[1;33m         \u001b[0mkey\u001b[0m \u001b[1;33m=\u001b[0m \u001b[0mcom\u001b[0m\u001b[1;33m.\u001b[0m\u001b[0mapply_if_callable\u001b[0m\u001b[1;33m(\u001b[0m\u001b[0mkey\u001b[0m\u001b[1;33m,\u001b[0m \u001b[0mself\u001b[0m\u001b[1;33m)\u001b[0m\u001b[1;33m\u001b[0m\u001b[1;33m\u001b[0m\u001b[0m\n\u001b[0m\u001b[0;32m   2952\u001b[0m \u001b[1;33m\u001b[0m\u001b[0m\n\u001b[0;32m   2953\u001b[0m         \u001b[1;32mif\u001b[0m \u001b[0mis_hashable\u001b[0m\u001b[1;33m(\u001b[0m\u001b[0mkey\u001b[0m\u001b[1;33m)\u001b[0m\u001b[1;33m:\u001b[0m\u001b[1;33m\u001b[0m\u001b[1;33m\u001b[0m\u001b[0m\n",
      "\u001b[1;32mC:\\ProgramData\\Anaconda3\\lib\\site-packages\\pandas\\core\\common.py\u001b[0m in \u001b[0;36mapply_if_callable\u001b[1;34m(maybe_callable, obj, **kwargs)\u001b[0m\n\u001b[0;32m    350\u001b[0m \u001b[1;33m\u001b[0m\u001b[0m\n\u001b[0;32m    351\u001b[0m \u001b[1;33m\u001b[0m\u001b[0m\n\u001b[1;32m--> 352\u001b[1;33m \u001b[1;32mdef\u001b[0m \u001b[0mapply_if_callable\u001b[0m\u001b[1;33m(\u001b[0m\u001b[0mmaybe_callable\u001b[0m\u001b[1;33m,\u001b[0m \u001b[0mobj\u001b[0m\u001b[1;33m,\u001b[0m \u001b[1;33m**\u001b[0m\u001b[0mkwargs\u001b[0m\u001b[1;33m)\u001b[0m\u001b[1;33m:\u001b[0m\u001b[1;33m\u001b[0m\u001b[1;33m\u001b[0m\u001b[0m\n\u001b[0m\u001b[0;32m    353\u001b[0m     \"\"\"\n\u001b[0;32m    354\u001b[0m     \u001b[0mEvaluate\u001b[0m \u001b[0mpossibly\u001b[0m \u001b[0mcallable\u001b[0m \u001b[0minput\u001b[0m \u001b[0musing\u001b[0m \u001b[0mobj\u001b[0m \u001b[1;32mand\u001b[0m \u001b[0mkwargs\u001b[0m \u001b[1;32mif\u001b[0m \u001b[0mit\u001b[0m \u001b[1;32mis\u001b[0m \u001b[0mcallable\u001b[0m\u001b[1;33m,\u001b[0m\u001b[1;33m\u001b[0m\u001b[1;33m\u001b[0m\u001b[0m\n",
      "\u001b[1;31mKeyboardInterrupt\u001b[0m: "
     ]
    }
   ],
   "source": [
    "%%time\n",
    "\n",
    "#все вместе занимает 7-8 минут\n",
    "\n",
    "\n",
    "#в изначальном датасете добавляем колонку с порядковым номером недели в году\n",
    "df_sales['week_id'] = [df_sales.Date_buy[i].isocalendar()[1]-1 for i in range(df_sales.shape[0])]\n",
    "\n",
    "#добавляем колонку с номером недели и номером дня в неделе в изначальный датасет\n",
    "df_sales['Date_buy_week_day'] = [str(df_sales.Date_buy[i].isocalendar()[1]-1)+' '+\n",
    "                                     str(df_sales.Date_buy[i].weekday()) for i in range(df_sales.shape[0])]\n",
    "\n",
    "\n",
    "for item_id in df_sales.ID_SKU.unique():\n",
    "    \n",
    "    #складываем кол-во продаж по номеру недели и по номеру ID товара\n",
    "    df_sales_weeks = df_sales[df_sales.ID_SKU == item_id].groupby('week_id').SKU_QTY.sum().reset_index()\n",
    "    \n",
    "    \n",
    "    \n",
    "    #складываем кол-во продаж по номеру неделии и дня недели, и по номеру ID товара\n",
    "    df_sales_weeks_days = df_sales[df_sales.ID_SKU == item_id].groupby('Date_buy_week_day').SKU_QTY.sum().reset_index()\n",
    "    \n",
    "    \n",
    "    #разбиваем датасет с номером недели и дня недели на [номер недели x номер дня в неделе]\n",
    "    df_sales_weeks_days_wide = pd.DataFrame()\n",
    "    \n",
    "    for i in range(int(df_sales_weeks_days.shape[0]/7)):\n",
    "        dict_new = dict()\n",
    "        for j in range(7):\n",
    "            dict_new['{}'.format(j)] = df_sales_weeks_days.SKU_QTY[i+j]\n",
    "        \n",
    "        df_sales_weeks_days_wide = df_sales_weeks_days_wide.append(dict_new, ignore_index=True)\n",
    "    \n",
    "    \n",
    "    #объединяем два датасета: изначальный с кол-во продаж определенного товара за неделю \n",
    "    #и датасет [номер недели x номер дня в неделе] с кол-во продаж\n",
    "    \n",
    "    df_sales_weeks_days_wide_final = pd.DataFrame()\n",
    "    df_sales_weeks_days_wide_final = pd.concat([df_sales_weeks, df_sales_weeks_days_wide], axis=1,sort=False)\n",
    "    \n",
    "    #добавляем колонку с номером ID товара\n",
    "    df_sales_weeks_days_wide_final['ID_SKU'] = [item_id for j in range(df_sales_weeks_days_wide_final.shape[0])]\n",
    "    \n",
    "    #сохраняем получившийся датасет\n",
    "    df_sales_weeks_days_wide_final.to_csv('df_sales_weeks_days_wide_final_id{}.csv'.format(item_id), index=False)"
   ]
  },
  {
   "cell_type": "code",
   "execution_count": null,
   "metadata": {},
   "outputs": [],
   "source": []
  }
 ],
 "metadata": {
  "kernelspec": {
   "display_name": "Python 3",
   "language": "python",
   "name": "python3"
  },
  "language_info": {
   "codemirror_mode": {
    "name": "ipython",
    "version": 3
   },
   "file_extension": ".py",
   "mimetype": "text/x-python",
   "name": "python",
   "nbconvert_exporter": "python",
   "pygments_lexer": "ipython3",
   "version": "3.7.4"
  }
 },
 "nbformat": 4,
 "nbformat_minor": 2
}
